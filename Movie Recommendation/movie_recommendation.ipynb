{
  "nbformat": 4,
  "nbformat_minor": 0,
  "metadata": {
    "colab": {
      "provenance": [],
      "authorship_tag": "ABX9TyPcu70lAhglNXxNoNe6Vw2m",
      "include_colab_link": true
    },
    "kernelspec": {
      "name": "python3",
      "display_name": "Python 3"
    },
    "language_info": {
      "name": "python"
    }
  },
  "cells": [
    {
      "cell_type": "markdown",
      "metadata": {
        "id": "view-in-github",
        "colab_type": "text"
      },
      "source": [
        "<a href=\"https://colab.research.google.com/github/s-dabral/ML-X-Movie_Recommendation/blob/main/ml_recommendation.ipynb\" target=\"_parent\"><img src=\"https://colab.research.google.com/assets/colab-badge.svg\" alt=\"Open In Colab\"/></a>"
      ]
    },
    {
      "cell_type": "markdown",
      "source": [
        " ### Movie Recommendation System\n",
        "\n",
        "This is a basic movie recommendation system that uses Collaborative Filtering and Content Based Recommendation System to predict the movies.\n",
        "\n"
      ],
      "metadata": {
        "id": "jL7-3Vo_qHzb"
      }
    },
    {
      "cell_type": "markdown",
      "source": [
        "###Dataset\n",
        "\n",
        "You can find the dataset used in the below link:\n",
        "\n",
        "https://grouplens.org/datasets/movielens/25m/"
      ],
      "metadata": {
        "id": "RLrqOyv8xyyp"
      }
    },
    {
      "cell_type": "markdown",
      "source": [
        "###Code\n",
        "\n",
        "\n",
        "You can start importing the required libraries and then preprocessing the given dataset.\n",
        "Then the function will find similar movies based on the ratings given by the users."
      ],
      "metadata": {
        "id": "T0q5JYVOxzZr"
      }
    },
    {
      "cell_type": "code",
      "source": [
        "import pandas as pd\n",
        "import re\n",
        "from sklearn.feature_extraction.text import TfidfVectorizer\n",
        "from sklearn.metrics.pairwise import cosine_similarity\n",
        "import numpy as np\n",
        "import ipywidgets as widgets\n",
        "from IPython.display import display\n"
      ],
      "metadata": {
        "id": "8MLV3rMRw06Z"
      },
      "execution_count": null,
      "outputs": []
    },
    {
      "cell_type": "code",
      "source": [
        "\n",
        "# Load movie data\n",
        "movies = pd.read_csv(\"movies.csv\")\n",
        "\n",
        "# Clean movie titles\n",
        "def clean_title(title):\n",
        "    title = re.sub(\"[^a-zA-Z0-9 ]\", \"\", title)\n",
        "    return title\n",
        "\n",
        "movies[\"clean_title\"] = movies[\"title\"].apply(clean_title)\n",
        "\n",
        "# Create TF-IDF vectors for movie titles\n",
        "vectorizer = TfidfVectorizer(ngram_range=(1, 2))\n",
        "tfidf = vectorizer.fit_transform(movies[\"clean_title\"])\n",
        "\n",
        "# Define a function to search for similar movies\n",
        "def search(title):\n",
        "    title = clean_title(title)\n",
        "    query_vec = vectorizer.transform([title])\n",
        "    similarity = cosine_similarity(query_vec, tfidf).flatten()\n",
        "    indices = np.argpartition(similarity, -5)[-5:]\n",
        "    results = movies.iloc[indices].iloc[::-1]\n",
        "\n",
        "    return results\n",
        "\n",
        "# Create an interactive widget for movie input\n",
        "movie_input = widgets.Text(\n",
        "    value='Toy Story',\n",
        "    description='Movie Title:',\n",
        "    disabled=False\n",
        ")\n",
        "\n",
        "movie_list = widgets.Output()\n",
        "\n",
        "def on_type(data):\n",
        "    with movie_list:\n",
        "        movie_list.clear_output()\n",
        "        title = data[\"new\"]\n",
        "        if len(title) > 5:\n",
        "            display(search(title))\n",
        "\n",
        "movie_input.observe(on_type, names='value')\n",
        "\n",
        "display(movie_input, movie_list)\n",
        "\n",
        "# Load ratings data\n",
        "ratings = pd.read_csv(\"ratings.csv\")\n",
        "\n",
        "# Define a function to find similar movies based on user ratings\n",
        "def find_similar_movies(movie_id):\n",
        "    similar_users = ratings[(ratings[\"movieId\"] == movie_id) & (ratings[\"rating\"] > 4)][\"userId\"].unique()\n",
        "    similar_user_recs = ratings[(ratings[\"userId\"].isin(similar_users)) & (ratings[\"rating\"] > 4)][\"movieId\"]\n",
        "    similar_user_recs = similar_user_recs.value_counts() / len(similar_users)\n",
        "\n",
        "    similar_user_recs = similar_user_recs[similar_user_recs > .10]\n",
        "    all_users = ratings[(ratings[\"movieId\"].isin(similar_user_recs.index)) & (ratings[\"rating\"] > 4)]\n",
        "    all_user_recs = all_users[\"movieId\"].value_counts() / len(all_users[\"userId\"].unique())\n",
        "    rec_percentages = pd.concat([similar_user_recs, all_user_recs], axis=1)\n",
        "    rec_percentages.columns = [\"similar\", \"all\"]\n",
        "\n",
        "    rec_percentages[\"score\"] = rec_percentages[\"similar\"] / rec_percentages[\"all\"]\n",
        "    rec_percentages = rec_percentages.sort_values(\"score\", ascending=False)\n",
        "    return rec_percentages.head(10).merge(movies, left_index=True, right_on=\"movieId\")[[\"score\", \"title\", \"genres\"]]\n",
        "\n",
        "# Create an interactive widget for movie recommendations\n",
        "movie_name_input = widgets.Text(\n",
        "    value='Toy Story',\n",
        "    description='Movie Title:',\n",
        "    disabled=False\n",
        ")\n",
        "\n",
        "recommendation_list = widgets.Output()\n",
        "\n",
        "def on_type(data):\n",
        "    with recommendation_list:\n",
        "        recommendation_list.clear_output()\n",
        "        title = data[\"new\"]\n",
        "        if len(title) > 5:\n",
        "            results = search(title)\n",
        "            movie_id = results.iloc[0][\"movieId\"]\n",
        "            display(find_similar_movies(movie_id))\n",
        "\n",
        "movie_name_input.observe(on_type, names='value')\n",
        "\n",
        "display(movie_name_input, recommendation_list)\n"
      ],
      "metadata": {
        "id": "riuF0ITVxaEq"
      },
      "execution_count": null,
      "outputs": []
    }
  ]
}